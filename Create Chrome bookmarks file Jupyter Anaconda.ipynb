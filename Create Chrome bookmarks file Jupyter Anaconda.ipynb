{
 "cells": [
  {
   "cell_type": "markdown",
   "id": "05ca38a8-70b0-439e-b0ca-8d8409c0d9ff",
   "metadata": {},
   "source": [
    "# Create a bookmarks file in HTML format for importing into Google Chrome"
   ]
  },
  {
   "cell_type": "code",
   "execution_count": 59,
   "id": "7202880a-23c3-4471-af90-3da44fc381d9",
   "metadata": {},
   "outputs": [],
   "source": [
    "import os"
   ]
  },
  {
   "cell_type": "code",
   "execution_count": 71,
   "id": "b6ea97e6-b8d8-40e9-b236-118c12465a17",
   "metadata": {},
   "outputs": [
    {
     "name": "stdout",
     "output_type": "stream",
     "text": [
      "Target directory: C:\\Users\\ep0\\Downloads\\New folder\n",
      "Full file path: C:\\Users\\ep0\\Downloads\\New folder\\Bookmarks.html\n"
     ]
    }
   ],
   "source": [
    "# Directory and file path\n",
    "directory = r\"C:\\Users\\ep0\\Downloads\\New folder\"\n",
    "file_path = os.path.join(directory, \"Bookmarks.html\")\n",
    "\n",
    "print(f\"Target directory: {directory}\")\n",
    "print(f\"Full file path: {file_path}\")"
   ]
  },
  {
   "cell_type": "code",
   "execution_count": 73,
   "id": "b3eadb7c-b8b5-4942-8a23-337392ba5916",
   "metadata": {},
   "outputs": [
    {
     "name": "stdout",
     "output_type": "stream",
     "text": [
      "Directory ensured: C:\\Users\\ep0\\Downloads\\New folder\n"
     ]
    }
   ],
   "source": [
    "# Ensure the directory exists\n",
    "try:\n",
    "    os.makedirs(directory, exist_ok=True)\n",
    "    print(f\"Directory ensured: {directory}\")\n",
    "except Exception as e:\n",
    "    print(f\"Error creating directory: {e}\")"
   ]
  },
  {
   "cell_type": "code",
   "execution_count": 75,
   "id": "d0a6eb4b-ea6b-4298-b2c8-5a1e1896a0cb",
   "metadata": {},
   "outputs": [],
   "source": [
    "# Generate bookmarks HTML content\n",
    "bookmarks = [\n",
    "    \"https://mikrotakt.app/\",\n",
    "]"
   ]
  },
  {
   "cell_type": "code",
   "execution_count": 77,
   "id": "7dc20765-ded4-4558-adf1-9520215c0fc7",
   "metadata": {},
   "outputs": [],
   "source": [
    "html_content = \"\"\"<!DOCTYPE NETSCAPE-Bookmark-file-1>\n",
    "<META HTTP-EQUIV=\"Content-Type\" CONTENT=\"text/html; charset=UTF-8\">\n",
    "<TITLE>Bookmarks</TITLE>\n",
    "<H1>Bookmarks</H1>\n",
    "<DL><p>\n",
    "\"\"\"\n",
    "\n",
    "for url in bookmarks:\n",
    "    html_content += f'    <DT><A HREF=\"{url}\" ADD_DATE=\"1692806400\" LAST_MODIFIED=\"1692806400\">{url}</A>\\n'\n",
    "\n",
    "html_content += \"</DL><p>\""
   ]
  },
  {
   "cell_type": "code",
   "execution_count": 81,
   "id": "ec9d2836-c9cf-4efb-b3b9-0034f33e470a",
   "metadata": {},
   "outputs": [
    {
     "name": "stdout",
     "output_type": "stream",
     "text": [
      "Bookmarks saved successfully at C:\\Users\\ep0\\Downloads\\New folder\\Bookmarks.html\n"
     ]
    }
   ],
   "source": [
    "# Save the file\n",
    "try:\n",
    "    with open(file_path, \"w\") as file:\n",
    "        file.write(html_content)\n",
    "    print(f\"Bookmarks saved successfully at {file_path}\")\n",
    "except Exception as e:\n",
    "    print(f\"Error saving file: {e}\")"
   ]
  }
 ],
 "metadata": {
  "kernelspec": {
   "display_name": "Python 3 (ipykernel)",
   "language": "python",
   "name": "python3"
  },
  "language_info": {
   "codemirror_mode": {
    "name": "ipython",
    "version": 3
   },
   "file_extension": ".py",
   "mimetype": "text/x-python",
   "name": "python",
   "nbconvert_exporter": "python",
   "pygments_lexer": "ipython3",
   "version": "3.12.7"
  }
 },
 "nbformat": 4,
 "nbformat_minor": 5
}
