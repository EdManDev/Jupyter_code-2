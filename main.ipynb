{
 "cells": [
  {
   "cell_type": "code",
   "execution_count": null,
   "id": "80790fdc",
   "metadata": {},
   "outputs": [
    {
     "name": "stdout",
     "output_type": "stream",
     "text": [
      "The future value of the investment is: 2058911320946490112.00\n"
     ]
    }
   ],
   "source": [
    "capital = 10000\n",
    "interest_rate = 0.02\n",
    "years = 30\n",
    "\n",
    "future_value = capital * (1 + interest_rate) ** years\n",
    "\n",
    "print(f\"The future value of the investment is: {future_value:.2f}\")"
   ]
  },
  {
   "cell_type": "markdown",
   "id": "79063fce",
   "metadata": {},
   "source": []
  }
 ],
 "metadata": {
  "kernelspec": {
   "display_name": "base",
   "language": "python",
   "name": "python3"
  },
  "language_info": {
   "codemirror_mode": {
    "name": "ipython",
    "version": 3
   },
   "file_extension": ".py",
   "mimetype": "text/x-python",
   "name": "python",
   "nbconvert_exporter": "python",
   "pygments_lexer": "ipython3",
   "version": "3.13.5"
  }
 },
 "nbformat": 4,
 "nbformat_minor": 5
}
